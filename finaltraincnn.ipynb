{
  "cells": [
    {
      "cell_type": "code",
      "execution_count": 11,
      "metadata": {
        "colab": {
          "base_uri": "https://localhost:8080/",
          "height": 1000
        },
        "id": "wLlFq8dqtXKv",
        "outputId": "ef0a84cb-1092-4360-b3ed-6adc13de141d"
      },
      "outputs": [
        {
          "output_type": "stream",
          "name": "stdout",
          "text": [
            "Found 7202 images belonging to 6 classes.\n",
            "Found 1800 images belonging to 6 classes.\n"
          ]
        },
        {
          "output_type": "stream",
          "name": "stderr",
          "text": [
            "Clipping input data to the valid range for imshow with RGB data ([0..1] for floats or [0..255] for integers).\n",
            "Clipping input data to the valid range for imshow with RGB data ([0..1] for floats or [0..255] for integers).\n",
            "Clipping input data to the valid range for imshow with RGB data ([0..1] for floats or [0..255] for integers).\n",
            "Clipping input data to the valid range for imshow with RGB data ([0..1] for floats or [0..255] for integers).\n",
            "Clipping input data to the valid range for imshow with RGB data ([0..1] for floats or [0..255] for integers).\n",
            "Clipping input data to the valid range for imshow with RGB data ([0..1] for floats or [0..255] for integers).\n",
            "Clipping input data to the valid range for imshow with RGB data ([0..1] for floats or [0..255] for integers).\n",
            "Clipping input data to the valid range for imshow with RGB data ([0..1] for floats or [0..255] for integers).\n",
            "Clipping input data to the valid range for imshow with RGB data ([0..1] for floats or [0..255] for integers).\n",
            "Clipping input data to the valid range for imshow with RGB data ([0..1] for floats or [0..255] for integers).\n"
          ]
        },
        {
          "output_type": "display_data",
          "data": {
            "text/plain": [
              "<Figure size 2160x1440 with 10 Axes>"
            ],
            "image/png": "[encoded data removed]"
          },
          "metadata": {
            "needs_background": "light"
          }
        },
        {
          "output_type": "stream",
          "name": "stdout",
          "text": [
            "(32, 64, 64, 3)\n",
            "[[0. 0. 0. 0. 0. 1.]\n",
            " [0. 0. 0. 1. 0. 0.]\n",
            " [0. 0. 0. 0. 1. 0.]\n",
            " [0. 0. 0. 0. 0. 1.]\n",
            " [0. 0. 0. 0. 0. 1.]\n",
            " [0. 0. 0. 0. 1. 0.]\n",
            " [0. 1. 0. 0. 0. 0.]\n",
            " [0. 0. 0. 0. 1. 0.]\n",
            " [1. 0. 0. 0. 0. 0.]\n",
            " [0. 1. 0. 0. 0. 0.]\n",
            " [0. 0. 0. 0. 1. 0.]\n",
            " [0. 0. 1. 0. 0. 0.]\n",
            " [0. 0. 1. 0. 0. 0.]\n",
            " [0. 0. 0. 1. 0. 0.]\n",
            " [0. 1. 0. 0. 0. 0.]\n",
            " [0. 0. 1. 0. 0. 0.]\n",
            " [0. 0. 1. 0. 0. 0.]\n",
            " [1. 0. 0. 0. 0. 0.]\n",
            " [0. 0. 0. 0. 0. 1.]\n",
            " [0. 1. 0. 0. 0. 0.]\n",
            " [0. 1. 0. 0. 0. 0.]\n",
            " [0. 0. 0. 0. 1. 0.]\n",
            " [0. 0. 0. 1. 0. 0.]\n",
            " [0. 0. 0. 0. 0. 1.]\n",
            " [0. 0. 0. 0. 0. 1.]\n",
            " [1. 0. 0. 0. 0. 0.]\n",
            " [0. 0. 1. 0. 0. 0.]\n",
            " [0. 0. 0. 0. 1. 0.]\n",
            " [0. 0. 0. 1. 0. 0.]\n",
            " [1. 0. 0. 0. 0. 0.]\n",
            " [0. 0. 0. 0. 0. 1.]\n",
            " [0. 1. 0. 0. 0. 0.]]\n",
            "Epoch 1/10\n",
            "226/226 [==============================] - 179s 782ms/step - loss: 1.5900 - accuracy: 0.2977 - val_loss: 1.0874 - val_accuracy: 0.5533 - lr: 0.0010\n",
            "Epoch 2/10\n",
            "226/226 [==============================] - 175s 773ms/step - loss: 0.6523 - accuracy: 0.7419 - val_loss: 0.5615 - val_accuracy: 0.7722 - lr: 0.0010\n",
            "Epoch 3/10\n",
            "226/226 [==============================] - 176s 778ms/step - loss: 0.2949 - accuracy: 0.8986 - val_loss: 0.3821 - val_accuracy: 0.8606 - lr: 0.0010\n",
            "Epoch 4/10\n",
            "226/226 [==============================] - 175s 775ms/step - loss: 0.1912 - accuracy: 0.9339 - val_loss: 0.6255 - val_accuracy: 0.7928 - lr: 0.0010\n",
            "Epoch 5/10\n",
            "226/226 [==============================] - 175s 774ms/step - loss: 0.0758 - accuracy: 0.9738 - val_loss: 0.3291 - val_accuracy: 0.9089 - lr: 5.0000e-04\n",
            "Epoch 6/10\n",
            "226/226 [==============================] - 177s 783ms/step - loss: 0.0364 - accuracy: 0.9879 - val_loss: 0.3857 - val_accuracy: 0.8983 - lr: 5.0000e-04\n",
            "Epoch 7/10\n",
            "226/226 [==============================] - 178s 785ms/step - loss: 0.0338 - accuracy: 0.9890 - val_loss: 0.3126 - val_accuracy: 0.9189 - lr: 5.0000e-04\n",
            "Epoch 8/10\n",
            "226/226 [==============================] - 176s 779ms/step - loss: 0.0306 - accuracy: 0.9919 - val_loss: 1.3325 - val_accuracy: 0.7289 - lr: 5.0000e-04\n",
            "Epoch 9/10\n",
            "226/226 [==============================] - 174s 768ms/step - loss: 0.0620 - accuracy: 0.9806 - val_loss: 0.5468 - val_accuracy: 0.8728 - lr: 5.0000e-04\n",
            "loss of 0.26907485723495483; accuracy of 96.875%\n",
            "{'loss': [1.589977502822876, 0.6522547602653503, 0.29486167430877686, 0.19119969010353088, 0.07578795403242111, 0.0363793782889843, 0.033814288675785065, 0.03057551570236683, 0.06201328709721565], 'accuracy': [0.2976950705051422, 0.7418772578239441, 0.8986392617225647, 0.9339072704315186, 0.973757266998291, 0.9879200458526611, 0.9890308380126953, 0.9919466972351074, 0.9805609583854675], 'val_loss': [1.087377905845642, 0.5614827871322632, 0.3821325898170471, 0.6254732012748718, 0.32909634709358215, 0.3856702744960785, 0.31261083483695984, 1.3325127363204956, 0.5467810034751892], 'val_accuracy': [0.5533333420753479, 0.7722222208976746, 0.8605555295944214, 0.7927777767181396, 0.9088888764381409, 0.8983333110809326, 0.9188888669013977, 0.7288888692855835, 0.8727777600288391], 'lr': [0.001, 0.001, 0.001, 0.001, 0.0005, 0.0005, 0.0005, 0.0005, 0.0005]}\n",
            "loss of 0.36977583169937134; accuracy of 87.5%\n",
            "Model: \"sequential_10\"\n",
            "_________________________________________________________________\n",
            " Layer (type)                Output Shape              Param #   \n",
            "=================================================================\n",
            " conv2d_40 (Conv2D)          (None, 62, 62, 32)        896       \n",
            "                                                                 \n",
            " max_pooling2d_40 (MaxPoolin  (None, 31, 31, 32)       0         \n",
            " g2D)                                                            \n",
            "                                                                 \n",
            " conv2d_41 (Conv2D)          (None, 31, 31, 64)        18496     \n",
            "                                                                 \n",
            " max_pooling2d_41 (MaxPoolin  (None, 15, 15, 64)       0         \n",
            " g2D)                                                            \n",
            "                                                                 \n",
            " conv2d_42 (Conv2D)          (None, 15, 15, 128)       73856     \n",
            "                                                                 \n",
            " max_pooling2d_42 (MaxPoolin  (None, 7, 7, 128)        0         \n",
            " g2D)                                                            \n",
            "                                                                 \n",
            " conv2d_43 (Conv2D)          (None, 5, 5, 256)         295168    \n",
            "                                                                 \n",
            " max_pooling2d_43 (MaxPoolin  (None, 2, 2, 256)        0         \n",
            " g2D)                                                            \n",
            "                                                                 \n",
            " flatten_10 (Flatten)        (None, 1024)              0         \n",
            "                                                                 \n",
            " dense_50 (Dense)            (None, 64)                65600     \n",
            "                                                                 \n",
            " dense_51 (Dense)            (None, 128)               8320      \n",
            "                                                                 \n",
            " dense_52 (Dense)            (None, 256)               33024     \n",
            "                                                                 \n",
            " dense_53 (Dense)            (None, 512)               131584    \n",
            "                                                                 \n",
            " dropout_15 (Dropout)        (None, 512)               0         \n",
            "                                                                 \n",
            " dense_54 (Dense)            (None, 6)                 3078      \n",
            "                                                                 \n",
            "=================================================================\n",
            "Total params: 630,022\n",
            "Trainable params: 630,022\n",
            "Non-trainable params: 0\n",
            "_________________________________________________________________\n"
          ]
        },
        {
          "output_type": "stream",
          "name": "stderr",
          "text": [
            "Clipping input data to the valid range for imshow with RGB data ([0..1] for floats or [0..255] for integers).\n",
            "Clipping input data to the valid range for imshow with RGB data ([0..1] for floats or [0..255] for integers).\n",
            "Clipping input data to the valid range for imshow with RGB data ([0..1] for floats or [0..255] for integers).\n",
            "Clipping input data to the valid range for imshow with RGB data ([0..1] for floats or [0..255] for integers).\n",
            "Clipping input data to the valid range for imshow with RGB data ([0..1] for floats or [0..255] for integers).\n",
            "Clipping input data to the valid range for imshow with RGB data ([0..1] for floats or [0..255] for integers).\n",
            "Clipping input data to the valid range for imshow with RGB data ([0..1] for floats or [0..255] for integers).\n",
            "Clipping input data to the valid range for imshow with RGB data ([0..1] for floats or [0..255] for integers).\n",
            "Clipping input data to the valid range for imshow with RGB data ([0..1] for floats or [0..255] for integers).\n"
          ]
        },
        {
          "output_type": "stream",
          "name": "stdout",
          "text": [
            "predictions on a small set of test data--\n",
            "\n",
            "palm   scroll_down   palm   left   horizontal_Scroll   right   scroll_down   left   horizontal_Scroll   palm   right   horizontal_Scroll   right   right   palm   right   scroll_down   right   scroll_up   scroll_up   horizontal_Scroll   right   scroll_down   left   scroll_up   right   right   palm   palm   scroll_down   scroll_down   palm   "
          ]
        },
        {
          "output_type": "stream",
          "name": "stderr",
          "text": [
            "Clipping input data to the valid range for imshow with RGB data ([0..1] for floats or [0..255] for integers).\n"
          ]
        },
        {
          "output_type": "display_data",
          "data": {
            "text/plain": [
              "<Figure size 2160x1440 with 10 Axes>"
            ],
            "image/png": "[encoded data removed]"
          },
          "metadata": {
            "needs_background": "light"
          }
        },
        {
          "output_type": "stream",
          "name": "stdout",
          "text": [
            "Actual labels\n",
            "horizontal_Scroll   scroll_down   palm   left   horizontal_Scroll   right   scroll_down   left   horizontal_Scroll   palm   right   horizontal_Scroll   left   left   palm   right   scroll_down   scroll_up   scroll_up   scroll_up   horizontal_Scroll   right   scroll_down   left   scroll_up   right   right   palm   palm   scroll_down   scroll_down   palm   (32, 64, 64, 3)\n"
          ]
        },
        {
          "output_type": "execute_result",
          "data": {
            "text/plain": [
              "{'accuracy': [0.2976950705051422,\n",
              "  0.7418772578239441,\n",
              "  0.8986392617225647,\n",
              "  0.9339072704315186,\n",
              "  0.973757266998291,\n",
              "  0.9879200458526611,\n",
              "  0.9890308380126953,\n",
              "  0.9919466972351074,\n",
              "  0.9805609583854675],\n",
              " 'loss': [1.589977502822876,\n",
              "  0.6522547602653503,\n",
              "  0.29486167430877686,\n",
              "  0.19119969010353088,\n",
              "  0.07578795403242111,\n",
              "  0.0363793782889843,\n",
              "  0.033814288675785065,\n",
              "  0.03057551570236683,\n",
              "  0.06201328709721565],\n",
              " 'lr': [0.001, 0.001, 0.001, 0.001, 0.0005, 0.0005, 0.0005, 0.0005, 0.0005],\n",
              " 'val_accuracy': [0.5533333420753479,\n",
              "  0.7722222208976746,\n",
              "  0.8605555295944214,\n",
              "  0.7927777767181396,\n",
              "  0.9088888764381409,\n",
              "  0.8983333110809326,\n",
              "  0.9188888669013977,\n",
              "  0.7288888692855835,\n",
              "  0.8727777600288391],\n",
              " 'val_loss': [1.087377905845642,\n",
              "  0.5614827871322632,\n",
              "  0.3821325898170471,\n",
              "  0.6254732012748718,\n",
              "  0.32909634709358215,\n",
              "  0.3856702744960785,\n",
              "  0.31261083483695984,\n",
              "  1.3325127363204956,\n",
              "  0.5467810034751892]}"
            ]
          },
          "metadata": {},
          "execution_count": 11
        },
        {
          "output_type": "display_data",
          "data": {
            "text/plain": [
              "<Figure size 432x288 with 2 Axes>"
            ],
            "image/png": "[encoded data removed]"
          },
          "metadata": {
            "needs_background": "light"
          }
        }
      ],
      "source": [
        "import tensorflow as tf\n",
        "from tensorflow import keras\n",
        "from keras.models import Sequential\n",
        "from keras.layers import Activation, Dense, Flatten, BatchNormalization, Conv2D, MaxPool2D, Dropout\n",
        "from tensorflow.keras.optimizers import Adam, SGD\n",
        "from keras.metrics import categorical_crossentropy\n",
        "from keras.preprocessing.image import ImageDataGenerator\n",
        "from tensorflow.keras.metrics import Metric\n",
        "import itertools\n",
        "import random\n",
        "import warnings\n",
        "import numpy as np\n",
        "import matplotlib.pyplot as plt\n",
        "import cv2\n",
        "from keras.callbacks import ReduceLROnPlateau\n",
        "from keras.callbacks import ModelCheckpoint, EarlyStopping\n",
        "warnings.simplefilter(action='ignore', category=FutureWarning)\n",
        "\n",
        "\n",
        "train_path = r'/content/drive/MyDrive/gesture_dataset/train'\n",
        "test_path = r'/content/drive/MyDrive/gesture_dataset/test'\n",
        "\n",
        "train_batches = ImageDataGenerator(preprocessing_function=tf.keras.applications.vgg16.preprocess_input).flow_from_directory(directory=train_path, target_size=(64,64), class_mode='categorical', batch_size=32,shuffle=True)\n",
        "test_batches = ImageDataGenerator(preprocessing_function=tf.keras.applications.vgg16.preprocess_input).flow_from_directory(directory=test_path, target_size=(64,64), class_mode='categorical', batch_size=32, shuffle=True)\n",
        "\n",
        "\n",
        "\n",
        "imgs, labels = next(train_batches)\n",
        "\n",
        "#print('labels',labels)\n",
        "#Plotting the images...\n",
        "def plotImages(images_arr):\n",
        "    fig, axes = plt.subplots(1, 10, figsize=(30,20))\n",
        "    axes = axes.flatten()\n",
        "    for img, ax in zip( images_arr, axes):\n",
        "        img = cv2.cvtColor(img, cv2.COLOR_BGR2RGB)\n",
        "        ax.imshow(img)\n",
        "        ax.axis('off')\n",
        "    plt.tight_layout()\n",
        "    plt.show()\n",
        "\n",
        "\n",
        "plotImages(imgs)\n",
        "print(imgs.shape)\n",
        "print(labels)\n",
        "\n",
        "model = Sequential()\n",
        "\n",
        "model.add(Conv2D(filters=32, kernel_size=(3, 3), activation='relu', input_shape=(64,64,3)))\n",
        "model.add(MaxPool2D(pool_size=(2, 2), strides=2))\n",
        "\n",
        "model.add(Conv2D(filters=64, kernel_size=(3, 3), activation='relu', padding = 'same'))\n",
        "model.add(MaxPool2D(pool_size=(2, 2), strides=2))\n",
        "\n",
        "model.add(Conv2D(filters=128, kernel_size=(3, 3), activation='relu', padding = 'same'))\n",
        "model.add(MaxPool2D(pool_size=(2, 2), strides=2))\n",
        "\n",
        "model.add(Conv2D(filters=256, kernel_size=(3, 3), activation='relu', padding = 'valid'))\n",
        "model.add(MaxPool2D(pool_size=(2, 2), strides=2))\n",
        "\n",
        "#model.add(Conv2D(filters=512, kernel_size=(3, 3), activation='relu', padding = 'valid'))\n",
        "#model.add(MaxPool2D(pool_size=(2, 2), strides=2))\n",
        "\n",
        "model.add(Flatten())\n",
        "\n",
        "model.add(Dense(64,activation =\"relu\"))\n",
        "#model.add(Dense(128,activation =\"relu\"))\n",
        "#model.add(Dropout(0.2))\n",
        "model.add(Dense(128,activation =\"relu\"))\n",
        "#model.add(Dropout(0.1))\n",
        "model.add(Dense(256,activation=\"relu\"))\n",
        "#model.add(Dropout(0.1))\n",
        "model.add(Dense(512,activation=\"relu\"))\n",
        "#model.add(Dense(512,activation=\"relu\"))\n",
        "model.add(Dropout(0.2))\n",
        "model.add(Dense(6,activation =\"softmax\"))\n",
        "\n",
        "\n",
        "# In[23]:\n",
        "\n",
        "\n",
        "model.compile(optimizer=Adam(learning_rate=0.001), loss='categorical_crossentropy', metrics=['accuracy'])\n",
        "reduce_lr = ReduceLROnPlateau(monitor='val_loss', factor=0.2, patience=1, min_lr=0.0005)\n",
        "early_stop = EarlyStopping(monitor='val_accuracy', min_delta=0, patience=2, verbose=0, mode='auto')\n",
        "\n",
        "\n",
        "\n",
        "#model.compile(optimizer=SGD(learning_rate=0.001), loss='categorical_crossentropy', metrics=['accuracy'])\n",
        "#reduce_lr = ReduceLROnPlateau(monitor='val_loss', factor=0.2, patience=1, min_lr=0.0005)\n",
        "#early_stop = EarlyStopping(monitor='val_loss', min_delta=0, patience=2, verbose=0, mode='auto')\n",
        "\n",
        "\n",
        "history2 = model.fit(train_batches, epochs=10, callbacks=[reduce_lr, early_stop],  validation_data =test_batches)#, checkpoint])\n",
        "imgs, labels = next(train_batches) # For getting next batch of imgs...\n",
        "\n",
        "imgs, labels = next(test_batches) # For getting next batch of imgs...\n",
        "scores = model.evaluate(imgs, labels, verbose=0)\n",
        "print(f'{model.metrics_names[0]} of {scores[0]}; {model.metrics_names[1]} of {scores[1]*100}%')\n",
        "\n",
        "\n",
        "\n",
        "model.save('cnn.h5')\n",
        "\n",
        "print(history2.history)\n",
        "\n",
        "imgs, labels = next(test_batches)\n",
        "\n",
        "model = keras.models.load_model(r\"cnn.h5\")\n",
        "\n",
        "scores = model.evaluate(imgs, labels, verbose=0)\n",
        "print(f'{model.metrics_names[0]} of {scores[0]}; {model.metrics_names[1]} of {scores[1]*100}%')\n",
        "\n",
        "model.summary()\n",
        "\n",
        "scores #[loss, accuracy] on test data...\n",
        "model.metrics_names\n",
        "\n",
        "\n",
        "from sklearn.metrics import confusion_matrix, ConfusionMatrixDisplay\n",
        "word_dict = {0:'left',1:'palm',2:'right',3:'scroll_down',4:'scroll_up',5:'horizontal_Scroll'}\n",
        "predictions = model.predict(imgs, verbose=0)\n",
        "true_classes=[]\n",
        "predicted_classes=[]\n",
        "print(\"predictions on a small set of test data--\")\n",
        "print(\"\")\n",
        "for ind, i in enumerate(predictions):\n",
        "    print(word_dict[np.argmax(i)], end='   ')\n",
        "    predicted_classes.append(word_dict[np.argmax(i)])\n",
        "\n",
        "plotImages(imgs)\n",
        "print('Actual labels')\n",
        "for i in labels:\n",
        "    print(word_dict[np.argmax(i)], end='   ')\n",
        "    true_classes.append(word_dict[np.argmax(i)])\n",
        "\n",
        "print(imgs.shape)\n",
        "\n",
        "cm = confusion_matrix(true_classes, predicted_classes, normalize='all')\n",
        "cmd = ConfusionMatrixDisplay(cm, display_labels=word_dict.values())\n",
        "cmd.plot()\n",
        "\n",
        "#report =Metric.classification_report(true_classes, predicted_classes, target_names=word_dict)\n",
        "#print(report)\n",
        "\n",
        "history2.history"
      ]
    },
    {
      "cell_type": "code",
      "source": [
        "from sklearn.metrics import confusion_matrix, ConfusionMatrixDisplay\n",
        "word_dict = {0:'left',1:'palm',2:'right',3:'scroll_down',4:'scroll_up',5:'horizontal_Scroll'}\n",
        "predictions = model.predict(imgs, verbose=0)\n",
        "true_classes=[]\n",
        "predicted_classes=[]\n",
        "print(\"predictions on a small set of test data--\")\n",
        "print(\"\")\n",
        "for ind, i in enumerate(predictions): ``\n",
        "    print(word_dict[np.argmax(i)], end='   ')\n",
        "    predicted_classes.append(word_dict[np.argmax(i)])\n",
        "\n",
        "plotImages(imgs)\n",
        "print('Actual labels')\n",
        "for i in labels:\n",
        "    print(word_dict[np.argmax(i)], end='   ')\n",
        "    true_classes.append(word_dict[np.argmax(i)])\n",
        "\n",
        "print(imgs.shape)\n",
        "\n",
        "cm = confusion_matrix(true_classes, predicted_classes, normalize='all')\n",
        "cmd = ConfusionMatrixDisplay(cm, display_labels=word_dict.values())\n",
        "cmd.plot()"
      ],
      "metadata": {
        "colab": {
          "base_uri": "https://localhost:8080/",
          "height": 694
        },
        "id": "RWUYTvhhGb2U",
        "outputId": "08233889-b940-49a7-b775-206b10abf82b"
      },
      "execution_count": null,
      "outputs": [
        {
          "output_type": "stream",
          "name": "stderr",
          "text": [
            "Clipping input data to the valid range for imshow with RGB data ([0..1] for floats or [0..255] for integers).\n",
            "Clipping input data to the valid range for imshow with RGB data ([0..1] for floats or [0..255] for integers).\n",
            "Clipping input data to the valid range for imshow with RGB data ([0..1] for floats or [0..255] for integers).\n",
            "Clipping input data to the valid range for imshow with RGB data ([0..1] for floats or [0..255] for integers).\n",
            "Clipping input data to the valid range for imshow with RGB data ([0..1] for floats or [0..255] for integers).\n",
            "Clipping input data to the valid range for imshow with RGB data ([0..1] for floats or [0..255] for integers).\n",
            "Clipping input data to the valid range for imshow with RGB data ([0..1] for floats or [0..255] for integers).\n",
            "Clipping input data to the valid range for imshow with RGB data ([0..1] for floats or [0..255] for integers).\n",
            "Clipping input data to the valid range for imshow with RGB data ([0..1] for floats or [0..255] for integers).\n",
            "Clipping input data to the valid range for imshow with RGB data ([0..1] for floats or [0..255] for integers).\n"
          ]
        },
        {
          "output_type": "stream",
          "name": "stdout",
          "text": [
            "predictions on a small set of test data--\n",
            "\n",
            "palm   right   scroll_down   scroll_up   horizontal_Scroll   palm   scroll_down   scroll_down   palm   right   scroll_down   palm   right   scroll_down   right   palm   palm   left   horizontal_Scroll   palm   left   scroll_down   palm   palm   right   scroll_up   scroll_up   scroll_up   scroll_up   right   left   scroll_down   "
          ]
        },
        {
          "output_type": "display_data",
          "data": {
            "text/plain": [
              "<Figure size 2160x1440 with 10 Axes>"
            ],
            "image/png": "[encoded data removed]"
          },
          "metadata": {
            "needs_background": "light"
          }
        },
        {
          "output_type": "stream",
          "name": "stdout",
          "text": [
            "Actual labels\n",
            "palm   right   scroll_down   scroll_up   horizontal_Scroll   palm   scroll_down   scroll_down   palm   left   horizontal_Scroll   palm   right   scroll_down   right   horizontal_Scroll   palm   left   horizontal_Scroll   palm   left   scroll_down   palm   palm   left   scroll_up   scroll_up   scroll_up   scroll_up   right   left   scroll_down   (32, 64, 64, 3)\n"
          ]
        },
        {
          "output_type": "execute_result",
          "data": {
            "text/plain": [
              "<sklearn.metrics._plot.confusion_matrix.ConfusionMatrixDisplay at 0x7fa6c7218310>"
            ]
          },
          "metadata": {},
          "execution_count": 15
        },
        {
          "output_type": "display_data",
          "data": {
            "text/plain": [
              "<Figure size 432x288 with 2 Axes>"
            ],
            "image/png": "[encoded data removed]"
          },
          "metadata": {
            "needs_background": "light"
          }
        }
      ]
    },
    {
      "cell_type": "code",
      "source": [
        ""
      ],
      "metadata": {
        "id": "bRNYen4eH9ma"
      },
      "execution_count": null,
      "outputs": []
    }
  ],
  "metadata": {
    "accelerator": "GPU",
    "colab": {
      "collapsed_sections": [],
      "name": "traincnn.ipynb",
      "provenance": []
    },
    "kernelspec": {
      "display_name": "Python 3",
      "name": "python3"
    },
    "language_info": {
      "name": "python"
    }
  },
  "nbformat": 4,
  "nbformat_minor": 0
}